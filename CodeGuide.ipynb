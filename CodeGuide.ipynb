{
  "nbformat": 4,
  "nbformat_minor": 0,
  "metadata": {
    "colab": {
      "provenance": [],
      "include_colab_link": true
    },
    "kernelspec": {
      "name": "python3",
      "display_name": "Python 3"
    },
    "language_info": {
      "name": "python"
    }
  },
  "cells": [
    {
      "cell_type": "markdown",
      "metadata": {
        "id": "view-in-github",
        "colab_type": "text"
      },
      "source": [
        "<a href=\"https://colab.research.google.com/github/chichh/Public_Trial/blob/main/CodeGuide.ipynb\" target=\"_parent\"><img src=\"https://colab.research.google.com/assets/colab-badge.svg\" alt=\"Open In Colab\"/></a>"
      ]
    },
    {
      "cell_type": "code",
      "source": [],
      "metadata": {
        "id": "-KNHnwbMv9oa"
      },
      "execution_count": null,
      "outputs": []
    },
    {
      "cell_type": "markdown",
      "source": [
        "### AVA project\n",
        "\n",
        "#### Goal:\n",
        "- [ ] Implement YOLOv7_ROS https://github.com/ava-share/Perception-YOLOv7/tree/main\n",
        "\n",
        "#### Steps:\n",
        "1. Clone the github repo from https://github.com/ava-share/Perception-YOLOv7/tree/main.\n",
        "\n",
        "2. (Optional but recommended) Create a new conda environment to address the compatibility issue.\n",
        "\n",
        "3. Running the code in the activated conda enviorment\n",
        "\n",
        "  a.   New terminal\n",
        "  ```\n",
        "  roscore\n",
        "  ```\n",
        "  b. New tab, play a rosbag, ```-l``` means loop play\n",
        "  ```\n",
        "  cd ~/052023AVA/rosbogs\n",
        "  rosbag play -l autoware-20230414110538_0.bag\n",
        "  ```\n",
        "  c. Run ```chmod +x``` in ```yolov7``` subdir\n",
        "\n",
        "  ```\n",
        "  cd ~/catkin_ws/src/YOLOv7_ROS/src/yolov7\n",
        "  chmod +x objDetectionLive.py\n",
        "  ```\n",
        "  f. New tab, Run ```source``` in ```catkin_ws``` folder\n",
        "\n",
        "  ```\n",
        "  source devel/setup.bash\n",
        "  roslaunch objdetection detectorLaunch.launch\n",
        "  ```\n",
        "\n",
        "  e. New tab\n",
        "  ```\n",
        "  Rivz\n",
        "  ```\n",
        "  Then add topic to visualize.\n",
        "\n",
        "\n",
        "#### Note:\n",
        "\n",
        "- Torch require python=3.10+ for using \"typing_extensions\"\n",
        "- DO NOT install multiple python version, otherwise terminal may not be able to open\n",
        "- Created a new conda env called yolo\n",
        "- ```yoloLiveNode``` is the name of that ros node"
      ],
      "metadata": {
        "id": "jPiufu1EvK64"
      }
    }
  ]
}